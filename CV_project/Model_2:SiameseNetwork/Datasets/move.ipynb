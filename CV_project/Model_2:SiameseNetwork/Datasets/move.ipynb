{
 "cells": [
  {
   "cell_type": "code",
   "execution_count": 12,
   "metadata": {},
   "outputs": [],
   "source": [
    "import os, shutil\n",
    "from PIL import Image\n",
    "import numpy as np\n",
    "srcPath = './BHSig260-Bengali/' \n",
    "destpath = './BHSig260-Bengali/Genuine/'\n",
    "\n",
    "\n",
    "for i in range(1, 101):\n",
    "    srcPath_temp = srcPath + str(i) + \"/\"\n",
    "    files = os.listdir(srcPath_temp) \n",
    "    for file in files:\n",
    "        if 'G' in file:\n",
    "            shutil.move(srcPath_temp + file, destpath + file)\n",
    "        #if file.startswith('H-S-0'):\n",
    "        #    new = file.replace('0', '', 1)\n",
    "        #    os.rename(srcPath + file, srcPath + new)\n",
    "\n",
    "    \n"
   ]
  },
  {
   "cell_type": "code",
   "execution_count": null,
   "metadata": {},
   "outputs": [],
   "source": [
    "import os, shutil\n",
    "from PIL import Image\n",
    "import numpy as np\n",
    "srcPath = './BHSig260-Bengali/' \n",
    "destpath = './BHSig260-Bengali/Forgery/'\n",
    "\n",
    "files = os.listdir(srcPath)\n",
    "for file in files:\n",
    "    if file.startswith('H-S-0'):\n",
    "        new = file.replace('0', '', 1)\n",
    "        os.rename(srcPath + file, srcPath + new)\n",
    "\n",
    "    \n"
   ]
  },
  {
   "cell_type": "code",
   "execution_count": 17,
   "metadata": {},
   "outputs": [
    {
     "name": "stdout",
     "output_type": "stream",
     "text": [
      "H-S-011-G-01.tif H-S-11-G-01.tif\n"
     ]
    }
   ],
   "source": [
    "stri = 'H-S-011-G-01.tif'\n",
    "new = stri.replace('0', '', 1)\n",
    "print(stri, new)"
   ]
  },
  {
   "cell_type": "code",
   "execution_count": 12,
   "metadata": {},
   "outputs": [
    {
     "name": "stdout",
     "output_type": "stream",
     "text": [
      "True\n"
     ]
    }
   ],
   "source": [
    "a = (2,1 )\n",
    "b = (1, 4)\n",
    "print( b < a)"
   ]
  }
 ],
 "metadata": {
  "kernelspec": {
   "display_name": "OFSV",
   "language": "python",
   "name": "python3"
  },
  "language_info": {
   "codemirror_mode": {
    "name": "ipython",
    "version": 3
   },
   "file_extension": ".py",
   "mimetype": "text/x-python",
   "name": "python",
   "nbconvert_exporter": "python",
   "pygments_lexer": "ipython3",
   "version": "3.9.13"
  }
 },
 "nbformat": 4,
 "nbformat_minor": 2
}
